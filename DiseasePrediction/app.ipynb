{
 "cells": [
  {
   "cell_type": "code",
   "execution_count": 1,
   "metadata": {},
   "outputs": [],
   "source": [
    "import numpy as np\n",
    "from sklearn.metrics import accuracy_score\n",
    "from flask import Flask, request, jsonify, render_template\n",
    "from sklearn.model_selection import train_test_split\n",
    "import pickle\n",
    "from sklearn.metrics import confusion_matrix\n",
    "from flask_cors import CORS, cross_origin\n"
   ]
  },
  {
   "cell_type": "code",
   "execution_count": 2,
   "metadata": {},
   "outputs": [
    {
     "name": "stderr",
     "output_type": "stream",
     "text": [
      "C:\\Users\\cagla\\anaconda3\\lib\\site-packages\\sklearn\\base.py:310: UserWarning: Trying to unpickle estimator DecisionTreeClassifier from version 0.23.2 when using version 0.24.1. This might lead to breaking code or invalid results. Use at your own risk.\n",
      "  warnings.warn(\n",
      "C:\\Users\\cagla\\anaconda3\\lib\\site-packages\\sklearn\\base.py:310: UserWarning: Trying to unpickle estimator RandomForestClassifier from version 0.23.2 when using version 0.24.1. This might lead to breaking code or invalid results. Use at your own risk.\n",
      "  warnings.warn(\n"
     ]
    }
   ],
   "source": [
    "app = Flask(__name__)\n",
    "cors = CORS(app)\n",
    "app.config['CORS_HEADERS'] = 'Content-Type'\n",
    "model = pickle.load(open('diagnosis.pkl', 'rb'))\n",
    "y = pickle.load(open('y_df.pkl', 'rb'))\n",
    "X = pickle.load(open('X_df.pkl', 'rb'))\n",
    "\n"
   ]
  },
  {
   "cell_type": "code",
   "execution_count": null,
   "metadata": {},
   "outputs": [
    {
     "name": "stdout",
     "output_type": "stream",
     "text": [
      " * Serving Flask app \"__main__\" (lazy loading)\n",
      " * Environment: production\n",
      "   WARNING: This is a development server. Do not use it in a production deployment.\n",
      "   Use a production WSGI server instead.\n",
      " * Debug mode: off\n"
     ]
    },
    {
     "name": "stderr",
     "output_type": "stream",
     "text": [
      " * Running on http://127.0.0.1:5000/ (Press CTRL+C to quit)\n",
      "127.0.0.1 - - [15/May/2021 19:02:51] \"\u001b[37mGET / HTTP/1.1\u001b[0m\" 200 -\n",
      "127.0.0.1 - - [15/May/2021 19:03:11] \"\u001b[37mGET /predict?Symptom_1=2&Symptom_2=11&Symptom_3=14&Symptom_4=18&Symptom_5=19&Symptom_6=22&Symptom_6=8&Symptom_7=1&Symptom_8=14&Symptom_9=3&Symptom_10=5&Symptom_11=7 HTTP/1.1\u001b[0m\" 200 -\n"
     ]
    },
    {
     "name": "stdout",
     "output_type": "stream",
     "text": [
      "['2', '11', '14', '18', '19', '22', '1', '14', '3', '5', '7']\n",
      "[2]\n",
      "[2, 11]\n",
      "[2, 11, 14]\n",
      "[2, 11, 14, 18]\n",
      "[2, 11, 14, 18, 19]\n",
      "[2, 11, 14, 18, 19, 22]\n",
      "[2, 11, 14, 18, 19, 22, 1]\n",
      "[2, 11, 14, 18, 19, 22, 1, 14]\n",
      "[2, 11, 14, 18, 19, 22, 1, 14, 3]\n",
      "[2, 11, 14, 18, 19, 22, 1, 14, 3, 5]\n",
      "[2, 11, 14, 18, 19, 22, 1, 14, 3, 5, 7]\n",
      "Your disease has been predicted as:  [34]\n"
     ]
    }
   ],
   "source": [
    "@app.route('/')\n",
    "@cross_origin()\n",
    "def home():\n",
    "    \n",
    "        return '<h1> API server is working </h1>'\n",
    "    \n",
    "@app.route('/predict', methods = ['GET'])\n",
    "@cross_origin()\n",
    "def predict():\n",
    "    list = ['(vertigo) Paroymsal  Positional Vertigo', 'AIDS' ,'Acne', 'Alcoholic hepatitis' ,'Allergy', \n",
    "            'Arthritis', 'Bronchial Asthma','Cervical spondylosis', 'Chicken pox' ,'Chronic cholestasis' ,\n",
    "            'Dengue','Diabetes' ,'Drug Reaction', 'Fungal infection' ,'GERD', 'Gastroenteritis','Hepatitis B' ,\n",
    "            'Hepatitis C' ,'Hepatitis D', 'Hepatitis E' ,'Hypertension','Hyperthyroidism' ,'Hypoglycemia' ,\n",
    "            'Hypothyroidism' ,'Impetigo' ,'Jaundice','Malaria', 'Migraine' ,'Osteoarthristis', 'Paralysis (brain hemorrhage)',\n",
    "            'Peptic ulcer diseae' ,'Pneumonia', 'Psoriasis', 'Tuberculosis' ,'Typhoid','Urinary tract infection', 'Varicose veins' ,\n",
    "            'hepatitis A']\n",
    "    \n",
    "    parameters = []\n",
    "    parameters.append(request.args.get('Symptom_1'))\n",
    "    parameters.append(request.args.get('Symptom_2'))\n",
    "    parameters.append(request.args.get('Symptom_3'))\n",
    "    parameters.append(request.args.get('Symptom_4'))\n",
    "    parameters.append(request.args.get('Symptom_5'))\n",
    "    parameters.append(request.args.get('Symptom_6'))\n",
    "    parameters.append(request.args.get('Symptom_7'))\n",
    "    parameters.append(request.args.get('Symptom_8'))\n",
    "    parameters.append(request.args.get('Symptom_9'))\n",
    "    parameters.append(request.args.get('Symptom_10'))\n",
    "    parameters.append(request.args.get('Symptom_11'))\n",
    "    \n",
    "    print(parameters)\n",
    "    intparameter= []\n",
    "    for i in range(len(parameters)):\n",
    "        t = int(parameters[i])\n",
    "        intparameter.append(t)\n",
    "        print (intparameter)\n",
    "    \n",
    "    \n",
    "    diagnosis_predict = model.predict([intparameter])\n",
    "    print (\"Your disease has been predicted as: \" , diagnosis_predict)\n",
    "    dis = diagnosis_predict[0]\n",
    "    \n",
    "    arry = y.iloc[0:276].values\n",
    "    arry = arry.ravel()\n",
    "    idx = []\n",
    "    j = 0\n",
    "    for i in range(arry.size):\n",
    "        if arry[i] == dis:\n",
    "            idx.append(i)\n",
    "            j += 1\n",
    "    X_testing = X.loc[int(idx[0]):int(idx[j-1])]\n",
    "    X_input = intparameter\n",
    "    acc_list=[]\n",
    "    i = 0\n",
    "    i = int(i)\n",
    "\n",
    "    while i < j:\n",
    "\n",
    "        matrix = confusion_matrix(X_testing.iloc[i], X_input)\n",
    "        matrix\n",
    "    \n",
    "        diag = matrix.diagonal()\n",
    "        rav = matrix.ravel()\n",
    "        tot_mat = rav.sum()\n",
    "        tot_diag = diag.sum()\n",
    "\n",
    "        accuracy = tot_diag/tot_mat\n",
    "        accuracy\n",
    "        acc_list.append(accuracy)\n",
    "        i += 1\n",
    "    acc_list\n",
    "    \n",
    "    acc_list_int = acc_list\n",
    "    i = 0\n",
    "    i = int(i)\n",
    "    while i < j:\n",
    "        acc_list_int[i] = int(acc_list_int[i] * 100)\n",
    "        i += 1\n",
    "    acc_list_int\n",
    "    \n",
    "    Accuracy = max(acc_list_int)\n",
    "    if Accuracy == 100:\n",
    "        Accuracy = Accuracy - 0.1\n",
    "        Accuracy = str(Accuracy)\n",
    "        diseasep = diagnosis_predict[0]\n",
    "        diseasepredict=list[diseasep]\n",
    "        return str( diseasepredict+ \" \" +Accuracy + \" % accururacy. Your symptoms are compatible please make an appointment.\")\n",
    "    if Accuracy == 0: \n",
    "        Accuracy = str(Accuracy)\n",
    "        diseasep = diagnosis_predict[0]\n",
    "        diseasepredict=list[diseasep]        \n",
    "        return str( diseasepredict+ \" \" +Accuracy +\" % accururacy. Your symptoms were irrelevant beyond compare and we cannot offer you a disease prediction with these inputs.\" )\n",
    "    if Accuracy >70:\n",
    "        \n",
    "        Accuracy = str(Accuracy)\n",
    "        diseasep = diagnosis_predict[0]\n",
    "        diseasepredict=list[diseasep]\n",
    "        return str( diseasepredict+\" \" + Accuracy +\" \"+ \" % Your symptoms are compatible please make an appointment.\")\n",
    "    else :\n",
    "        Accuracy = str(Accuracy)\n",
    "        diseasep = diagnosis_predict[0]\n",
    "        diseasepredict=list[diseasep]\n",
    "        return str( diseasepredict +\" \" + Accuracy + \"% accururacy. Probably due to your irrelevant symptom inputs, you had a low accuracy.\\nWe recommend you to try again with more logical symptoms or contact your MD physically.\")\n",
    "        \n",
    "\n",
    "if __name__ == '__main__':\n",
    "    app.run(debug=True)"
   ]
  }
 ],
 "metadata": {
  "kernelspec": {
   "display_name": "Python 3",
   "language": "python",
   "name": "python3"
  },
  "language_info": {
   "codemirror_mode": {
    "name": "ipython",
    "version": 3
   },
   "file_extension": ".py",
   "mimetype": "text/x-python",
   "name": "python",
   "nbconvert_exporter": "python",
   "pygments_lexer": "ipython3",
   "version": "3.8.5"
  }
 },
 "nbformat": 4,
 "nbformat_minor": 4
}
