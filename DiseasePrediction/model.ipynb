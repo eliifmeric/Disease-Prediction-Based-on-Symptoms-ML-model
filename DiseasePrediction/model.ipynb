{
 "cells": [
  {
   "cell_type": "code",
   "execution_count": 1,
   "metadata": {},
   "outputs": [],
   "source": [
    "import pandas as pd\n",
    "import numpy as np\n",
    "import matplotlib.pyplot as plt\n",
    "%matplotlib inline\n",
    "import seaborn as sns\n",
    "import itertools\n",
    "import pickle\n",
    "from collections import Counter\n",
    "from imblearn.under_sampling import RandomUnderSampler\n",
    "from sklearn.preprocessing import MinMaxScaler\n",
    "from sklearn.preprocessing import StandardScaler\n",
    "from sklearn.decomposition import PCA\n",
    "from sklearn.pipeline import Pipeline\n",
    "from sklearn.model_selection import train_test_split\n",
    "from sklearn.model_selection import GridSearchCV\n",
    "from sklearn.svm import SVC\n",
    "from sklearn.ensemble import RandomForestClassifier\n",
    "from sklearn.model_selection import train_test_split\n",
    "from sklearn.metrics import (accuracy_score, confusion_matrix,classification_report, roc_curve, auc)"
   ]
  },
  {
   "cell_type": "code",
   "execution_count": 2,
   "metadata": {},
   "outputs": [],
   "source": [
    "df=pd.read_csv(\"C:/Users/Elif/Downloads/dataset.csv\")"
   ]
  },
  {
   "cell_type": "code",
   "execution_count": 3,
   "metadata": {},
   "outputs": [
    {
     "data": {
      "text/html": [
       "<div>\n",
       "<style scoped>\n",
       "    .dataframe tbody tr th:only-of-type {\n",
       "        vertical-align: middle;\n",
       "    }\n",
       "\n",
       "    .dataframe tbody tr th {\n",
       "        vertical-align: top;\n",
       "    }\n",
       "\n",
       "    .dataframe thead th {\n",
       "        text-align: right;\n",
       "    }\n",
       "</style>\n",
       "<table border=\"1\" class=\"dataframe\">\n",
       "  <thead>\n",
       "    <tr style=\"text-align: right;\">\n",
       "      <th></th>\n",
       "      <th>Disease</th>\n",
       "      <th>Symptom_1</th>\n",
       "      <th>Symptom_2</th>\n",
       "      <th>Symptom_3</th>\n",
       "      <th>Symptom_4</th>\n",
       "      <th>Symptom_5</th>\n",
       "      <th>Symptom_6</th>\n",
       "      <th>Symptom_7</th>\n",
       "      <th>Symptom_8</th>\n",
       "      <th>Symptom_9</th>\n",
       "      <th>Symptom_10</th>\n",
       "      <th>Symptom_11</th>\n",
       "      <th>Precaution1</th>\n",
       "      <th>Precaution2</th>\n",
       "      <th>Precaution3</th>\n",
       "      <th>Precaution4</th>\n",
       "    </tr>\n",
       "  </thead>\n",
       "  <tbody>\n",
       "    <tr>\n",
       "      <th>0</th>\n",
       "      <td>Fungal infection</td>\n",
       "      <td>itching</td>\n",
       "      <td>skin rash</td>\n",
       "      <td>nodal skin eruptions</td>\n",
       "      <td>dischromic patches</td>\n",
       "      <td>Irritation</td>\n",
       "      <td>Ring-shaped redness</td>\n",
       "      <td>Lesions different from skin</td>\n",
       "      <td>0.0</td>\n",
       "      <td>0.0</td>\n",
       "      <td>0.0</td>\n",
       "      <td>0.0</td>\n",
       "      <td>bath twice</td>\n",
       "      <td>use detol or neem in bathing water</td>\n",
       "      <td>keep infected area dry</td>\n",
       "      <td>use clean cloths</td>\n",
       "    </tr>\n",
       "    <tr>\n",
       "      <th>1</th>\n",
       "      <td>Fungal infection</td>\n",
       "      <td>skin rash</td>\n",
       "      <td>nodal skin eruptions</td>\n",
       "      <td>dischromic patches</td>\n",
       "      <td>itching</td>\n",
       "      <td>Irritation</td>\n",
       "      <td>Ring-shaped redness</td>\n",
       "      <td>Lesions different from skin</td>\n",
       "      <td>0.0</td>\n",
       "      <td>0.0</td>\n",
       "      <td>0.0</td>\n",
       "      <td>0.0</td>\n",
       "      <td>bath twice</td>\n",
       "      <td>use detol or neem in bathing water</td>\n",
       "      <td>keep infected area dry</td>\n",
       "      <td>use clean cloths</td>\n",
       "    </tr>\n",
       "    <tr>\n",
       "      <th>2</th>\n",
       "      <td>Fungal infection</td>\n",
       "      <td>itching</td>\n",
       "      <td>nodal skin eruptions</td>\n",
       "      <td>dischromic  patches</td>\n",
       "      <td>skin rash</td>\n",
       "      <td>Irritation</td>\n",
       "      <td>Ring-shaped redness</td>\n",
       "      <td>Lesions different from skin</td>\n",
       "      <td>0.0</td>\n",
       "      <td>0.0</td>\n",
       "      <td>0.0</td>\n",
       "      <td>0.0</td>\n",
       "      <td>bath twice</td>\n",
       "      <td>use detol or neem in bathing water</td>\n",
       "      <td>keep infected area dry</td>\n",
       "      <td>use clean cloths</td>\n",
       "    </tr>\n",
       "    <tr>\n",
       "      <th>3</th>\n",
       "      <td>Fungal infection</td>\n",
       "      <td>itching</td>\n",
       "      <td>skin rash</td>\n",
       "      <td>dischromic  patches</td>\n",
       "      <td>nodal skin eruptions</td>\n",
       "      <td>Irritation</td>\n",
       "      <td>Ring-shaped redness</td>\n",
       "      <td>Lesions different from skin</td>\n",
       "      <td>0.0</td>\n",
       "      <td>0.0</td>\n",
       "      <td>0.0</td>\n",
       "      <td>0.0</td>\n",
       "      <td>bath twice</td>\n",
       "      <td>use detol or neem in bathing water</td>\n",
       "      <td>keep infected area dry</td>\n",
       "      <td>use clean cloths</td>\n",
       "    </tr>\n",
       "    <tr>\n",
       "      <th>4</th>\n",
       "      <td>Fungal infection</td>\n",
       "      <td>itching</td>\n",
       "      <td>skin rash</td>\n",
       "      <td>nodal skin eruptions</td>\n",
       "      <td>dischromic patches</td>\n",
       "      <td>Irritation</td>\n",
       "      <td>Ring-shaped redness</td>\n",
       "      <td>Lesions different from skin</td>\n",
       "      <td>0.0</td>\n",
       "      <td>0.0</td>\n",
       "      <td>0.0</td>\n",
       "      <td>0.0</td>\n",
       "      <td>bath twice</td>\n",
       "      <td>use detol or neem in bathing water</td>\n",
       "      <td>keep infected area dry</td>\n",
       "      <td>use clean cloths</td>\n",
       "    </tr>\n",
       "  </tbody>\n",
       "</table>\n",
       "</div>"
      ],
      "text/plain": [
       "            Disease  Symptom_1             Symptom_2             Symptom_3  \\\n",
       "0  Fungal infection    itching             skin rash  nodal skin eruptions   \n",
       "1  Fungal infection  skin rash  nodal skin eruptions    dischromic patches   \n",
       "2  Fungal infection    itching  nodal skin eruptions   dischromic  patches   \n",
       "3  Fungal infection    itching             skin rash   dischromic  patches   \n",
       "4  Fungal infection    itching             skin rash  nodal skin eruptions   \n",
       "\n",
       "              Symptom_4   Symptom_5            Symptom_6  \\\n",
       "0    dischromic patches  Irritation  Ring-shaped redness   \n",
       "1               itching  Irritation  Ring-shaped redness   \n",
       "2             skin rash  Irritation  Ring-shaped redness   \n",
       "3  nodal skin eruptions  Irritation  Ring-shaped redness   \n",
       "4    dischromic patches  Irritation  Ring-shaped redness   \n",
       "\n",
       "                     Symptom_7 Symptom_8 Symptom_9 Symptom_10 Symptom_11  \\\n",
       "0  Lesions different from skin       0.0       0.0        0.0        0.0   \n",
       "1  Lesions different from skin       0.0       0.0        0.0        0.0   \n",
       "2  Lesions different from skin       0.0       0.0        0.0        0.0   \n",
       "3  Lesions different from skin       0.0       0.0        0.0        0.0   \n",
       "4  Lesions different from skin       0.0       0.0        0.0        0.0   \n",
       "\n",
       "  Precaution1                         Precaution2             Precaution3  \\\n",
       "0  bath twice  use detol or neem in bathing water  keep infected area dry   \n",
       "1  bath twice  use detol or neem in bathing water  keep infected area dry   \n",
       "2  bath twice  use detol or neem in bathing water  keep infected area dry   \n",
       "3  bath twice  use detol or neem in bathing water  keep infected area dry   \n",
       "4  bath twice  use detol or neem in bathing water  keep infected area dry   \n",
       "\n",
       "        Precaution4  \n",
       "0  use clean cloths  \n",
       "1  use clean cloths  \n",
       "2  use clean cloths  \n",
       "3  use clean cloths  \n",
       "4  use clean cloths  "
      ]
     },
     "execution_count": 3,
     "metadata": {},
     "output_type": "execute_result"
    }
   ],
   "source": [
    "df.head()"
   ]
  },
  {
   "cell_type": "code",
   "execution_count": 4,
   "metadata": {},
   "outputs": [
    {
     "data": {
      "image/png": "[encoded data removed]",
      "text/plain": [
       "<Figure size 1152x720 with 11 Axes>"
      ]
     },
     "metadata": {
      "needs_background": "light"
     },
     "output_type": "display_data"
    }
   ],
   "source": [
    "to_hist = ['Symptom_1','Symptom_2','Symptom_3','Symptom_4','Symptom_5','Symptom_6','Symptom_7','Symptom_8','Symptom_9','Symptom_10','Symptom_11']\n",
    "\n",
    "plt.figure(figsize=(16,10))\n",
    "for idx, col in enumerate(to_hist):\n",
    "    plt.subplot(3, 4, idx+1)\n",
    "    plt.hist(df[col])\n",
    "    plt.title(col)\n",
    "plt.tight_layout();"
   ]
  },
  {
   "cell_type": "code",
   "execution_count": 5,
   "metadata": {},
   "outputs": [
    {
     "data": {
      "image/png": "[encoded data removed]",
      "text/plain": [
       "<Figure size 2880x2520 with 1 Axes>"
      ]
     },
     "metadata": {
      "needs_background": "light"
     },
     "output_type": "display_data"
    }
   ],
   "source": [
    "to_hist = ['Disease']\n",
    "\n",
    "plt.figure(figsize=(40,35))\n",
    "for idx, col in enumerate(to_hist):\n",
    "    plt.subplot(3, 4, idx+1)\n",
    "    plt.hist(df[col])\n",
    "    plt.title(col)\n",
    "plt.tight_layout();"
   ]
  },
  {
   "cell_type": "code",
   "execution_count": 6,
   "metadata": {},
   "outputs": [],
   "source": [
    "dfcorr=df.loc[:,['Disease','Symptom_1','Symptom_2','Symptom_3','Symptom_4','Symptom_5','Symptom_6','Symptom_7','Symptom_8','Symptom_9','Symptom_10','Symptom_11']]"
   ]
  },
  {
   "cell_type": "code",
   "execution_count": 7,
   "metadata": {},
   "outputs": [],
   "source": [
    "from sklearn.preprocessing import LabelEncoder\n",
    "labencoder=LabelEncoder()\n",
    "dfcorr.loc[:,['Disease','Symptom_1','Symptom_2','Symptom_3','Symptom_4','Symptom_5','Symptom_6','Symptom_7','Symptom_8','Symptom_9','Symptom_10','Symptom_11']]=\\\n",
    "dfcorr.loc[:,['Disease','Symptom_1','Symptom_2','Symptom_3','Symptom_4','Symptom_5','Symptom_6','Symptom_7','Symptom_8','Symptom_9','Symptom_10','Symptom_11']].apply(labencoder.fit_transform)"
   ]
  },
  {
   "cell_type": "code",
   "execution_count": 8,
   "metadata": {},
   "outputs": [
    {
     "data": {
      "text/html": [
       "<div>\n",
       "<style scoped>\n",
       "    .dataframe tbody tr th:only-of-type {\n",
       "        vertical-align: middle;\n",
       "    }\n",
       "\n",
       "    .dataframe tbody tr th {\n",
       "        vertical-align: top;\n",
       "    }\n",
       "\n",
       "    .dataframe thead th {\n",
       "        text-align: right;\n",
       "    }\n",
       "</style>\n",
       "<table border=\"1\" class=\"dataframe\">\n",
       "  <thead>\n",
       "    <tr style=\"text-align: right;\">\n",
       "      <th></th>\n",
       "      <th>Disease</th>\n",
       "      <th>Symptom_1</th>\n",
       "      <th>Symptom_2</th>\n",
       "      <th>Symptom_3</th>\n",
       "      <th>Symptom_4</th>\n",
       "      <th>Symptom_5</th>\n",
       "      <th>Symptom_6</th>\n",
       "      <th>Symptom_7</th>\n",
       "      <th>Symptom_8</th>\n",
       "      <th>Symptom_9</th>\n",
       "      <th>Symptom_10</th>\n",
       "      <th>Symptom_11</th>\n",
       "    </tr>\n",
       "  </thead>\n",
       "  <tbody>\n",
       "    <tr>\n",
       "      <th>Disease</th>\n",
       "      <td>1.000000</td>\n",
       "      <td>-0.284381</td>\n",
       "      <td>-0.041508</td>\n",
       "      <td>-0.075904</td>\n",
       "      <td>-0.028885</td>\n",
       "      <td>0.143573</td>\n",
       "      <td>-0.055550</td>\n",
       "      <td>-0.095494</td>\n",
       "      <td>0.017209</td>\n",
       "      <td>0.258446</td>\n",
       "      <td>0.099659</td>\n",
       "      <td>0.230734</td>\n",
       "    </tr>\n",
       "    <tr>\n",
       "      <th>Symptom_1</th>\n",
       "      <td>-0.284381</td>\n",
       "      <td>1.000000</td>\n",
       "      <td>-0.160419</td>\n",
       "      <td>0.005171</td>\n",
       "      <td>0.181732</td>\n",
       "      <td>-0.106685</td>\n",
       "      <td>-0.022687</td>\n",
       "      <td>-0.008199</td>\n",
       "      <td>-0.218575</td>\n",
       "      <td>0.015582</td>\n",
       "      <td>-0.065310</td>\n",
       "      <td>0.003512</td>\n",
       "    </tr>\n",
       "    <tr>\n",
       "      <th>Symptom_2</th>\n",
       "      <td>-0.041508</td>\n",
       "      <td>-0.160419</td>\n",
       "      <td>1.000000</td>\n",
       "      <td>-0.095461</td>\n",
       "      <td>0.098744</td>\n",
       "      <td>-0.148390</td>\n",
       "      <td>-0.057148</td>\n",
       "      <td>-0.193800</td>\n",
       "      <td>0.009350</td>\n",
       "      <td>0.063879</td>\n",
       "      <td>0.047584</td>\n",
       "      <td>-0.030834</td>\n",
       "    </tr>\n",
       "    <tr>\n",
       "      <th>Symptom_3</th>\n",
       "      <td>-0.075904</td>\n",
       "      <td>0.005171</td>\n",
       "      <td>-0.095461</td>\n",
       "      <td>1.000000</td>\n",
       "      <td>-0.285660</td>\n",
       "      <td>-0.035076</td>\n",
       "      <td>-0.025287</td>\n",
       "      <td>0.134608</td>\n",
       "      <td>0.123313</td>\n",
       "      <td>0.103528</td>\n",
       "      <td>-0.036021</td>\n",
       "      <td>0.076094</td>\n",
       "    </tr>\n",
       "    <tr>\n",
       "      <th>Symptom_4</th>\n",
       "      <td>-0.028885</td>\n",
       "      <td>0.181732</td>\n",
       "      <td>0.098744</td>\n",
       "      <td>-0.285660</td>\n",
       "      <td>1.000000</td>\n",
       "      <td>-0.131866</td>\n",
       "      <td>0.065472</td>\n",
       "      <td>0.030039</td>\n",
       "      <td>0.014248</td>\n",
       "      <td>0.073046</td>\n",
       "      <td>-0.119125</td>\n",
       "      <td>0.040719</td>\n",
       "    </tr>\n",
       "    <tr>\n",
       "      <th>Symptom_5</th>\n",
       "      <td>0.143573</td>\n",
       "      <td>-0.106685</td>\n",
       "      <td>-0.148390</td>\n",
       "      <td>-0.035076</td>\n",
       "      <td>-0.131866</td>\n",
       "      <td>1.000000</td>\n",
       "      <td>0.058339</td>\n",
       "      <td>0.042820</td>\n",
       "      <td>0.275670</td>\n",
       "      <td>0.049570</td>\n",
       "      <td>-0.122365</td>\n",
       "      <td>-0.081228</td>\n",
       "    </tr>\n",
       "    <tr>\n",
       "      <th>Symptom_6</th>\n",
       "      <td>-0.055550</td>\n",
       "      <td>-0.022687</td>\n",
       "      <td>-0.057148</td>\n",
       "      <td>-0.025287</td>\n",
       "      <td>0.065472</td>\n",
       "      <td>0.058339</td>\n",
       "      <td>1.000000</td>\n",
       "      <td>0.188136</td>\n",
       "      <td>-0.034398</td>\n",
       "      <td>0.051857</td>\n",
       "      <td>-0.166803</td>\n",
       "      <td>-0.293236</td>\n",
       "    </tr>\n",
       "    <tr>\n",
       "      <th>Symptom_7</th>\n",
       "      <td>-0.095494</td>\n",
       "      <td>-0.008199</td>\n",
       "      <td>-0.193800</td>\n",
       "      <td>0.134608</td>\n",
       "      <td>0.030039</td>\n",
       "      <td>0.042820</td>\n",
       "      <td>0.188136</td>\n",
       "      <td>1.000000</td>\n",
       "      <td>0.169972</td>\n",
       "      <td>0.071660</td>\n",
       "      <td>0.200667</td>\n",
       "      <td>0.031844</td>\n",
       "    </tr>\n",
       "    <tr>\n",
       "      <th>Symptom_8</th>\n",
       "      <td>0.017209</td>\n",
       "      <td>-0.218575</td>\n",
       "      <td>0.009350</td>\n",
       "      <td>0.123313</td>\n",
       "      <td>0.014248</td>\n",
       "      <td>0.275670</td>\n",
       "      <td>-0.034398</td>\n",
       "      <td>0.169972</td>\n",
       "      <td>1.000000</td>\n",
       "      <td>0.173073</td>\n",
       "      <td>0.209484</td>\n",
       "      <td>0.145542</td>\n",
       "    </tr>\n",
       "    <tr>\n",
       "      <th>Symptom_9</th>\n",
       "      <td>0.258446</td>\n",
       "      <td>0.015582</td>\n",
       "      <td>0.063879</td>\n",
       "      <td>0.103528</td>\n",
       "      <td>0.073046</td>\n",
       "      <td>0.049570</td>\n",
       "      <td>0.051857</td>\n",
       "      <td>0.071660</td>\n",
       "      <td>0.173073</td>\n",
       "      <td>1.000000</td>\n",
       "      <td>0.110052</td>\n",
       "      <td>0.305057</td>\n",
       "    </tr>\n",
       "    <tr>\n",
       "      <th>Symptom_10</th>\n",
       "      <td>0.099659</td>\n",
       "      <td>-0.065310</td>\n",
       "      <td>0.047584</td>\n",
       "      <td>-0.036021</td>\n",
       "      <td>-0.119125</td>\n",
       "      <td>-0.122365</td>\n",
       "      <td>-0.166803</td>\n",
       "      <td>0.200667</td>\n",
       "      <td>0.209484</td>\n",
       "      <td>0.110052</td>\n",
       "      <td>1.000000</td>\n",
       "      <td>0.397644</td>\n",
       "    </tr>\n",
       "    <tr>\n",
       "      <th>Symptom_11</th>\n",
       "      <td>0.230734</td>\n",
       "      <td>0.003512</td>\n",
       "      <td>-0.030834</td>\n",
       "      <td>0.076094</td>\n",
       "      <td>0.040719</td>\n",
       "      <td>-0.081228</td>\n",
       "      <td>-0.293236</td>\n",
       "      <td>0.031844</td>\n",
       "      <td>0.145542</td>\n",
       "      <td>0.305057</td>\n",
       "      <td>0.397644</td>\n",
       "      <td>1.000000</td>\n",
       "    </tr>\n",
       "  </tbody>\n",
       "</table>\n",
       "</div>"
      ],
      "text/plain": [
       "             Disease  Symptom_1  Symptom_2  Symptom_3  Symptom_4  Symptom_5  \\\n",
       "Disease     1.000000  -0.284381  -0.041508  -0.075904  -0.028885   0.143573   \n",
       "Symptom_1  -0.284381   1.000000  -0.160419   0.005171   0.181732  -0.106685   \n",
       "Symptom_2  -0.041508  -0.160419   1.000000  -0.095461   0.098744  -0.148390   \n",
       "Symptom_3  -0.075904   0.005171  -0.095461   1.000000  -0.285660  -0.035076   \n",
       "Symptom_4  -0.028885   0.181732   0.098744  -0.285660   1.000000  -0.131866   \n",
       "Symptom_5   0.143573  -0.106685  -0.148390  -0.035076  -0.131866   1.000000   \n",
       "Symptom_6  -0.055550  -0.022687  -0.057148  -0.025287   0.065472   0.058339   \n",
       "Symptom_7  -0.095494  -0.008199  -0.193800   0.134608   0.030039   0.042820   \n",
       "Symptom_8   0.017209  -0.218575   0.009350   0.123313   0.014248   0.275670   \n",
       "Symptom_9   0.258446   0.015582   0.063879   0.103528   0.073046   0.049570   \n",
       "Symptom_10  0.099659  -0.065310   0.047584  -0.036021  -0.119125  -0.122365   \n",
       "Symptom_11  0.230734   0.003512  -0.030834   0.076094   0.040719  -0.081228   \n",
       "\n",
       "            Symptom_6  Symptom_7  Symptom_8  Symptom_9  Symptom_10  Symptom_11  \n",
       "Disease     -0.055550  -0.095494   0.017209   0.258446    0.099659    0.230734  \n",
       "Symptom_1   -0.022687  -0.008199  -0.218575   0.015582   -0.065310    0.003512  \n",
       "Symptom_2   -0.057148  -0.193800   0.009350   0.063879    0.047584   -0.030834  \n",
       "Symptom_3   -0.025287   0.134608   0.123313   0.103528   -0.036021    0.076094  \n",
       "Symptom_4    0.065472   0.030039   0.014248   0.073046   -0.119125    0.040719  \n",
       "Symptom_5    0.058339   0.042820   0.275670   0.049570   -0.122365   -0.081228  \n",
       "Symptom_6    1.000000   0.188136  -0.034398   0.051857   -0.166803   -0.293236  \n",
       "Symptom_7    0.188136   1.000000   0.169972   0.071660    0.200667    0.031844  \n",
       "Symptom_8   -0.034398   0.169972   1.000000   0.173073    0.209484    0.145542  \n",
       "Symptom_9    0.051857   0.071660   0.173073   1.000000    0.110052    0.305057  \n",
       "Symptom_10  -0.166803   0.200667   0.209484   0.110052    1.000000    0.397644  \n",
       "Symptom_11  -0.293236   0.031844   0.145542   0.305057    0.397644    1.000000  "
      ]
     },
     "execution_count": 8,
     "metadata": {},
     "output_type": "execute_result"
    }
   ],
   "source": [
    "dfcorr.corr()"
   ]
  },
  {
   "cell_type": "code",
   "execution_count": 9,
   "metadata": {},
   "outputs": [
    {
     "data": {
      "image/png": "[encoded data removed]",
      "text/plain": [
       "<Figure size 864x720 with 2 Axes>"
      ]
     },
     "metadata": {
      "needs_background": "light"
     },
     "output_type": "display_data"
    }
   ],
   "source": [
    "plt.figure(figsize=(12,10))\n",
    "sns.heatmap(dfcorr.corr());"
   ]
  },
  {
   "cell_type": "code",
   "execution_count": 10,
   "metadata": {},
   "outputs": [
    {
     "data": {
      "text/plain": [
       "RandomForestClassifier()"
      ]
     },
     "execution_count": 10,
     "metadata": {},
     "output_type": "execute_result"
    }
   ],
   "source": [
    "quick_sample = dfcorr.sample(253, random_state=1)\n",
    "quick_sample_y = quick_sample['Disease']\n",
    "quick_sample_x = quick_sample.drop('Disease', axis=1)\n",
    "\n",
    "trial_forest = RandomForestClassifier()\n",
    "trial_forest.fit(quick_sample_x, quick_sample_y)"
   ]
  },
  {
   "cell_type": "code",
   "execution_count": 11,
   "metadata": {},
   "outputs": [
    {
     "name": "stdout",
     "output_type": "stream",
     "text": [
      "1.0\n"
     ]
    },
    {
     "data": {
      "image/png": "[encoded data removed]",
      "text/plain": [
       "<Figure size 576x720 with 1 Axes>"
      ]
     },
     "metadata": {
      "needs_background": "light"
     },
     "output_type": "display_data"
    }
   ],
   "source": [
    "print(trial_forest.score(quick_sample_x, quick_sample_y))\n",
    "n_features = quick_sample_x.shape[1]\n",
    "plt.figure(figsize=(8,10))\n",
    "plt.barh(range(n_features), trial_forest.feature_importances_, align='center') \n",
    "plt.yticks(np.arange(n_features), quick_sample_x.columns) \n",
    "plt.xlabel(\"önem değeri\")\n",
    "plt.ylabel(\"belirtiler\")\n",
    "plt.title('belirtilerin önemi');"
   ]
  },
  {
   "cell_type": "code",
   "execution_count": 12,
   "metadata": {},
   "outputs": [],
   "source": [
    "y = df['Disease']"
   ]
  },
  {
   "cell_type": "code",
   "execution_count": 13,
   "metadata": {},
   "outputs": [],
   "source": [
    "#print (\"Disease before apply encoding: \",np.unique(y))\n",
    "#Y=labencoder.fit_transform(y)\n",
    "#print(\"Disease after apply encoding:\",np.unique(Y))"
   ]
  },
  {
   "cell_type": "code",
   "execution_count": 14,
   "metadata": {},
   "outputs": [],
   "source": [
    "X=df.loc[:,['Symptom_1','Symptom_2','Symptom_3','Symptom_4','Symptom_5','Symptom_6','Symptom_7','Symptom_8','Symptom_9','Symptom_10','Symptom_11']]"
   ]
  },
  {
   "cell_type": "code",
   "execution_count": 15,
   "metadata": {},
   "outputs": [],
   "source": [
    "\n",
    "X.loc[:,['Symptom_1','Symptom_2','Symptom_3','Symptom_4','Symptom_5','Symptom_6','Symptom_7','Symptom_8','Symptom_9','Symptom_10','Symptom_11']]=\\\n",
    "X.loc[:,['Symptom_1','Symptom_2','Symptom_3','Symptom_4','Symptom_5','Symptom_6','Symptom_7','Symptom_8','Symptom_9','Symptom_10','Symptom_11']].apply(labencoder.fit_transform)"
   ]
  },
  {
   "cell_type": "code",
   "execution_count": 16,
   "metadata": {},
   "outputs": [
    {
     "data": {
      "text/html": [
       "<div>\n",
       "<style scoped>\n",
       "    .dataframe tbody tr th:only-of-type {\n",
       "        vertical-align: middle;\n",
       "    }\n",
       "\n",
       "    .dataframe tbody tr th {\n",
       "        vertical-align: top;\n",
       "    }\n",
       "\n",
       "    .dataframe thead th {\n",
       "        text-align: right;\n",
       "    }\n",
       "</style>\n",
       "<table border=\"1\" class=\"dataframe\">\n",
       "  <thead>\n",
       "    <tr style=\"text-align: right;\">\n",
       "      <th></th>\n",
       "      <th>Symptom_1</th>\n",
       "      <th>Symptom_2</th>\n",
       "      <th>Symptom_3</th>\n",
       "      <th>Symptom_4</th>\n",
       "      <th>Symptom_5</th>\n",
       "      <th>Symptom_6</th>\n",
       "      <th>Symptom_7</th>\n",
       "      <th>Symptom_8</th>\n",
       "      <th>Symptom_9</th>\n",
       "      <th>Symptom_10</th>\n",
       "      <th>Symptom_11</th>\n",
       "    </tr>\n",
       "  </thead>\n",
       "  <tbody>\n",
       "    <tr>\n",
       "      <th>0</th>\n",
       "      <td>13</td>\n",
       "      <td>35</td>\n",
       "      <td>34</td>\n",
       "      <td>15</td>\n",
       "      <td>0</td>\n",
       "      <td>1</td>\n",
       "      <td>2</td>\n",
       "      <td>0</td>\n",
       "      <td>0</td>\n",
       "      <td>0</td>\n",
       "      <td>0</td>\n",
       "    </tr>\n",
       "    <tr>\n",
       "      <th>1</th>\n",
       "      <td>23</td>\n",
       "      <td>27</td>\n",
       "      <td>17</td>\n",
       "      <td>27</td>\n",
       "      <td>0</td>\n",
       "      <td>1</td>\n",
       "      <td>2</td>\n",
       "      <td>0</td>\n",
       "      <td>0</td>\n",
       "      <td>0</td>\n",
       "      <td>0</td>\n",
       "    </tr>\n",
       "    <tr>\n",
       "      <th>2</th>\n",
       "      <td>13</td>\n",
       "      <td>27</td>\n",
       "      <td>16</td>\n",
       "      <td>49</td>\n",
       "      <td>0</td>\n",
       "      <td>1</td>\n",
       "      <td>2</td>\n",
       "      <td>0</td>\n",
       "      <td>0</td>\n",
       "      <td>0</td>\n",
       "      <td>0</td>\n",
       "    </tr>\n",
       "    <tr>\n",
       "      <th>3</th>\n",
       "      <td>13</td>\n",
       "      <td>35</td>\n",
       "      <td>16</td>\n",
       "      <td>36</td>\n",
       "      <td>0</td>\n",
       "      <td>1</td>\n",
       "      <td>2</td>\n",
       "      <td>0</td>\n",
       "      <td>0</td>\n",
       "      <td>0</td>\n",
       "      <td>0</td>\n",
       "    </tr>\n",
       "    <tr>\n",
       "      <th>4</th>\n",
       "      <td>13</td>\n",
       "      <td>35</td>\n",
       "      <td>34</td>\n",
       "      <td>15</td>\n",
       "      <td>0</td>\n",
       "      <td>1</td>\n",
       "      <td>2</td>\n",
       "      <td>0</td>\n",
       "      <td>0</td>\n",
       "      <td>0</td>\n",
       "      <td>0</td>\n",
       "    </tr>\n",
       "    <tr>\n",
       "      <th>...</th>\n",
       "      <td>...</td>\n",
       "      <td>...</td>\n",
       "      <td>...</td>\n",
       "      <td>...</td>\n",
       "      <td>...</td>\n",
       "      <td>...</td>\n",
       "      <td>...</td>\n",
       "      <td>...</td>\n",
       "      <td>...</td>\n",
       "      <td>...</td>\n",
       "      <td>...</td>\n",
       "    </tr>\n",
       "    <tr>\n",
       "      <th>145</th>\n",
       "      <td>14</td>\n",
       "      <td>42</td>\n",
       "      <td>53</td>\n",
       "      <td>11</td>\n",
       "      <td>33</td>\n",
       "      <td>30</td>\n",
       "      <td>16</td>\n",
       "      <td>32</td>\n",
       "      <td>40</td>\n",
       "      <td>16</td>\n",
       "      <td>1</td>\n",
       "    </tr>\n",
       "    <tr>\n",
       "      <th>146</th>\n",
       "      <td>14</td>\n",
       "      <td>42</td>\n",
       "      <td>53</td>\n",
       "      <td>11</td>\n",
       "      <td>33</td>\n",
       "      <td>30</td>\n",
       "      <td>5</td>\n",
       "      <td>32</td>\n",
       "      <td>40</td>\n",
       "      <td>16</td>\n",
       "      <td>9</td>\n",
       "    </tr>\n",
       "    <tr>\n",
       "      <th>147</th>\n",
       "      <td>9</td>\n",
       "      <td>22</td>\n",
       "      <td>53</td>\n",
       "      <td>11</td>\n",
       "      <td>27</td>\n",
       "      <td>4</td>\n",
       "      <td>51</td>\n",
       "      <td>46</td>\n",
       "      <td>22</td>\n",
       "      <td>21</td>\n",
       "      <td>19</td>\n",
       "    </tr>\n",
       "    <tr>\n",
       "      <th>148</th>\n",
       "      <td>13</td>\n",
       "      <td>22</td>\n",
       "      <td>53</td>\n",
       "      <td>11</td>\n",
       "      <td>27</td>\n",
       "      <td>4</td>\n",
       "      <td>51</td>\n",
       "      <td>46</td>\n",
       "      <td>22</td>\n",
       "      <td>21</td>\n",
       "      <td>19</td>\n",
       "    </tr>\n",
       "    <tr>\n",
       "      <th>149</th>\n",
       "      <td>13</td>\n",
       "      <td>14</td>\n",
       "      <td>53</td>\n",
       "      <td>11</td>\n",
       "      <td>27</td>\n",
       "      <td>4</td>\n",
       "      <td>51</td>\n",
       "      <td>46</td>\n",
       "      <td>22</td>\n",
       "      <td>21</td>\n",
       "      <td>19</td>\n",
       "    </tr>\n",
       "  </tbody>\n",
       "</table>\n",
       "<p>150 rows × 11 columns</p>\n",
       "</div>"
      ],
      "text/plain": [
       "     Symptom_1  Symptom_2  Symptom_3  Symptom_4  Symptom_5  Symptom_6  \\\n",
       "0           13         35         34         15          0          1   \n",
       "1           23         27         17         27          0          1   \n",
       "2           13         27         16         49          0          1   \n",
       "3           13         35         16         36          0          1   \n",
       "4           13         35         34         15          0          1   \n",
       "..         ...        ...        ...        ...        ...        ...   \n",
       "145         14         42         53         11         33         30   \n",
       "146         14         42         53         11         33         30   \n",
       "147          9         22         53         11         27          4   \n",
       "148         13         22         53         11         27          4   \n",
       "149         13         14         53         11         27          4   \n",
       "\n",
       "     Symptom_7  Symptom_8  Symptom_9  Symptom_10  Symptom_11  \n",
       "0            2          0          0           0           0  \n",
       "1            2          0          0           0           0  \n",
       "2            2          0          0           0           0  \n",
       "3            2          0          0           0           0  \n",
       "4            2          0          0           0           0  \n",
       "..         ...        ...        ...         ...         ...  \n",
       "145         16         32         40          16           1  \n",
       "146          5         32         40          16           9  \n",
       "147         51         46         22          21          19  \n",
       "148         51         46         22          21          19  \n",
       "149         51         46         22          21          19  \n",
       "\n",
       "[150 rows x 11 columns]"
      ]
     },
     "execution_count": 16,
     "metadata": {},
     "output_type": "execute_result"
    }
   ],
   "source": [
    "X.head(150)"
   ]
  },
  {
   "cell_type": "code",
   "execution_count": 17,
   "metadata": {},
   "outputs": [],
   "source": [
    "X_train, X_test, y_train, y_test  = train_test_split(X, y, test_size=0.30,random_state=42)"
   ]
  },
  {
   "cell_type": "code",
   "execution_count": 18,
   "metadata": {},
   "outputs": [
    {
     "name": "stdout",
     "output_type": "stream",
     "text": [
      "train shape: (193, 11)\n",
      "test shape: (83, 11)\n"
     ]
    }
   ],
   "source": [
    "print(\"train shape:\",X_train.shape)\n",
    "print(\"test shape:\",X_test.shape)\n"
   ]
  },
  {
   "cell_type": "code",
   "execution_count": 19,
   "metadata": {},
   "outputs": [],
   "source": [
    "X_trainfirst = X_train.copy()\n",
    "y_trainfirst= y_train.copy()\n",
    "X_testfirst = X_test.copy()\n",
    "y_testfirst = y_test.copy()"
   ]
  },
  {
   "cell_type": "code",
   "execution_count": 20,
   "metadata": {},
   "outputs": [
    {
     "data": {
      "text/plain": [
       "RandomForestClassifier()"
      ]
     },
     "execution_count": 20,
     "metadata": {},
     "output_type": "execute_result"
    }
   ],
   "source": [
    "from sklearn.ensemble import RandomForestClassifier\n",
    "clf= RandomForestClassifier()\n",
    "clf.fit(X_train, y_train)"
   ]
  },
  {
   "cell_type": "code",
   "execution_count": 21,
   "metadata": {},
   "outputs": [
    {
     "name": "stdout",
     "output_type": "stream",
     "text": [
      "Confusion Matrix:\n",
      "[[1 0 0 ... 0 0 0]\n",
      " [0 3 0 ... 0 0 0]\n",
      " [0 0 1 ... 0 0 0]\n",
      " ...\n",
      " [0 0 0 ... 2 0 0]\n",
      " [0 0 0 ... 0 3 0]\n",
      " [0 0 0 ... 0 0 5]]\n",
      "Classification Report:\n",
      "                                         precision    recall  f1-score   support\n",
      "\n",
      "(vertigo) Paroymsal  Positional Vertigo       1.00      1.00      1.00         1\n",
      "                                   AIDS       1.00      1.00      1.00         3\n",
      "                                   Acne       1.00      1.00      1.00         1\n",
      "                    Alcoholic hepatitis       1.00      1.00      1.00         2\n",
      "                                Allergy       1.00      1.00      1.00         2\n",
      "                       Bronchial Asthma       1.00      1.00      1.00         3\n",
      "                   Cervical spondylosis       1.00      1.00      1.00         2\n",
      "                            Chicken pox       0.80      1.00      0.89         4\n",
      "                    Chronic cholestasis       1.00      1.00      1.00         3\n",
      "                                 Dengue       1.00      0.67      0.80         3\n",
      "                               Diabetes       1.00      1.00      1.00         1\n",
      "                          Drug Reaction       1.00      1.00      1.00         2\n",
      "                       Fungal infection       1.00      1.00      1.00         1\n",
      "                                   GERD       1.00      1.00      1.00         4\n",
      "                        Gastroenteritis       1.00      1.00      1.00         1\n",
      "                            Hepatitis B       1.00      1.00      1.00         3\n",
      "                            Hepatitis C       1.00      1.00      1.00         3\n",
      "                            Hepatitis D       1.00      1.00      1.00         3\n",
      "                            Hepatitis E       1.00      1.00      1.00         1\n",
      "                           Hypertension       1.00      1.00      1.00         1\n",
      "                           Hypoglycemia       1.00      1.00      1.00         4\n",
      "                         Hypothyroidism       1.00      1.00      1.00         2\n",
      "                               Impetigo       1.00      1.00      1.00         1\n",
      "                               Jaundice       1.00      1.00      1.00         1\n",
      "                                Malaria       1.00      1.00      1.00         2\n",
      "                               Migraine       1.00      1.00      1.00         5\n",
      "                        Osteoarthristis       1.00      1.00      1.00         3\n",
      "           Paralysis (brain hemorrhage)       1.00      1.00      1.00         2\n",
      "                    Peptic ulcer diseae       1.00      1.00      1.00         1\n",
      "                              Pneumonia       1.00      0.80      0.89         5\n",
      "                              Psoriasis       1.00      1.00      1.00         2\n",
      "                           Tuberculosis       0.00      0.00      0.00         0\n",
      "                                Typhoid       1.00      1.00      1.00         1\n",
      "                Urinary tract infection       1.00      1.00      1.00         2\n",
      "                         Varicose veins       1.00      1.00      1.00         3\n",
      "                            hepatitis A       1.00      1.00      1.00         5\n",
      "\n",
      "                               accuracy                           0.98        83\n",
      "                              macro avg       0.97      0.96      0.96        83\n",
      "                           weighted avg       0.99      0.98      0.98        83\n",
      "\n",
      "Accuracy: 0.9759036144578314\n"
     ]
    },
    {
     "name": "stderr",
     "output_type": "stream",
     "text": [
      "C:\\Users\\cagla\\anaconda3\\lib\\site-packages\\sklearn\\metrics\\_classification.py:1245: UndefinedMetricWarning: Recall and F-score are ill-defined and being set to 0.0 in labels with no true samples. Use `zero_division` parameter to control this behavior.\n",
      "  _warn_prf(average, modifier, msg_start, len(result))\n",
      "C:\\Users\\cagla\\anaconda3\\lib\\site-packages\\sklearn\\metrics\\_classification.py:1245: UndefinedMetricWarning: Recall and F-score are ill-defined and being set to 0.0 in labels with no true samples. Use `zero_division` parameter to control this behavior.\n",
      "  _warn_prf(average, modifier, msg_start, len(result))\n",
      "C:\\Users\\cagla\\anaconda3\\lib\\site-packages\\sklearn\\metrics\\_classification.py:1245: UndefinedMetricWarning: Recall and F-score are ill-defined and being set to 0.0 in labels with no true samples. Use `zero_division` parameter to control this behavior.\n",
      "  _warn_prf(average, modifier, msg_start, len(result))\n"
     ]
    }
   ],
   "source": [
    "import sklearn.metrics as metrics\n",
    "y_pred = clf.predict(X_test)\n",
    "from sklearn.metrics import classification_report, confusion_matrix, accuracy_score \n",
    "confusion= confusion_matrix(y_test, y_pred)\n",
    "print(\"Confusion Matrix:\")\n",
    "print(confusion)\n",
    "classification = classification_report(y_test, y_pred)\n",
    "print(\"Classification Report:\",)\n",
    "print (classification)\n",
    "accuracy = accuracy_score(y_test,y_pred)\n",
    "print(\"Accuracy:\",accuracy)"
   ]
  },
  {
   "cell_type": "code",
   "execution_count": 22,
   "metadata": {},
   "outputs": [],
   "source": [
    "#from sklearn.metrics import mean_absolute_error , r2_score\n",
    "#print(\"mean:\", mean_absolute_error(y_test,y_pred))\n",
    "#r2_score(y_test,y_pred)"
   ]
  },
  {
   "cell_type": "code",
   "execution_count": 23,
   "metadata": {},
   "outputs": [
    {
     "data": {
      "text/plain": [
       "(83,)"
      ]
     },
     "execution_count": 23,
     "metadata": {},
     "output_type": "execute_result"
    }
   ],
   "source": [
    "y_test.shape\n"
   ]
  },
  {
   "cell_type": "code",
   "execution_count": 24,
   "metadata": {},
   "outputs": [
    {
     "data": {
      "text/plain": [
       "(83,)"
      ]
     },
     "execution_count": 24,
     "metadata": {},
     "output_type": "execute_result"
    }
   ],
   "source": [
    "y_pred.shape"
   ]
  },
  {
   "cell_type": "code",
   "execution_count": 25,
   "metadata": {},
   "outputs": [
    {
     "name": "stderr",
     "output_type": "stream",
     "text": [
      "C:\\Users\\cagla\\anaconda3\\lib\\site-packages\\sklearn\\model_selection\\_split.py:666: UserWarning: The least populated class in y has only 3 members, which is less than n_splits=5.\n",
      "  warnings.warn((\"The least populated class in y has only %d\"\n"
     ]
    },
    {
     "data": {
      "text/plain": [
       "GridSearchCV(cv=5, estimator=RandomForestClassifier(), n_jobs=-1,\n",
       "             param_grid={'max_depth': array([ 1,  2,  3,  4,  5,  6,  7,  8,  9, 10, 11, 12, 13, 14, 15, 16, 17,\n",
       "       18, 19]),\n",
       "                         'max_features': [5], 'n_estimators': [50]})"
      ]
     },
     "execution_count": 25,
     "metadata": {},
     "output_type": "execute_result"
    }
   ],
   "source": [
    "from sklearn.model_selection import  GridSearchCV\n",
    "params = {'n_estimators': [50],'max_features': [5], 'max_depth': np.arange(1,20)}\n",
    "\n",
    "grid_clf= GridSearchCV(clf, params, cv=5, n_jobs=-1)\n",
    "\n",
    "grid_clf.fit(X_train, y_train)"
   ]
  },
  {
   "cell_type": "code",
   "execution_count": 26,
   "metadata": {},
   "outputs": [
    {
     "name": "stdout",
     "output_type": "stream",
     "text": [
      "Best score: 0.9635627530364372\n",
      "Best params: {'max_depth': 19, 'max_features': 5, 'n_estimators': 50}\n"
     ]
    }
   ],
   "source": [
    "print('Best score:', grid_clf.best_score_)\n",
    "print('Best params:', grid_clf.best_params_)"
   ]
  },
  {
   "cell_type": "code",
   "execution_count": 27,
   "metadata": {},
   "outputs": [],
   "source": [
    "y_prediction = grid_clf.predict(X_test)"
   ]
  },
  {
   "cell_type": "code",
   "execution_count": 28,
   "metadata": {},
   "outputs": [
    {
     "name": "stdout",
     "output_type": "stream",
     "text": [
      "Classification Report:\n",
      "                                         precision    recall  f1-score   support\n",
      "\n",
      "(vertigo) Paroymsal  Positional Vertigo       1.00      1.00      1.00         1\n",
      "                                   AIDS       1.00      1.00      1.00         3\n",
      "                                   Acne       1.00      1.00      1.00         1\n",
      "                    Alcoholic hepatitis       1.00      1.00      1.00         2\n",
      "                                Allergy       1.00      1.00      1.00         2\n",
      "                       Bronchial Asthma       1.00      1.00      1.00         3\n",
      "                   Cervical spondylosis       1.00      1.00      1.00         2\n",
      "                            Chicken pox       0.80      1.00      0.89         4\n",
      "                    Chronic cholestasis       1.00      1.00      1.00         3\n",
      "                                 Dengue       1.00      1.00      1.00         3\n",
      "                               Diabetes       1.00      1.00      1.00         1\n",
      "                          Drug Reaction       1.00      1.00      1.00         2\n",
      "                       Fungal infection       1.00      1.00      1.00         1\n",
      "                                   GERD       1.00      1.00      1.00         4\n",
      "                        Gastroenteritis       1.00      1.00      1.00         1\n",
      "                            Hepatitis B       1.00      1.00      1.00         3\n",
      "                            Hepatitis C       1.00      1.00      1.00         3\n",
      "                            Hepatitis D       1.00      1.00      1.00         3\n",
      "                            Hepatitis E       1.00      1.00      1.00         1\n",
      "                           Hypertension       1.00      1.00      1.00         1\n",
      "                           Hypoglycemia       1.00      1.00      1.00         4\n",
      "                         Hypothyroidism       1.00      1.00      1.00         2\n",
      "                               Impetigo       1.00      1.00      1.00         1\n",
      "                               Jaundice       1.00      1.00      1.00         1\n",
      "                                Malaria       1.00      1.00      1.00         2\n",
      "                               Migraine       1.00      1.00      1.00         5\n",
      "                        Osteoarthristis       1.00      1.00      1.00         3\n",
      "           Paralysis (brain hemorrhage)       1.00      1.00      1.00         2\n",
      "                    Peptic ulcer diseae       1.00      1.00      1.00         1\n",
      "                              Pneumonia       1.00      0.80      0.89         5\n",
      "                              Psoriasis       1.00      1.00      1.00         2\n",
      "                                Typhoid       1.00      1.00      1.00         1\n",
      "                Urinary tract infection       1.00      1.00      1.00         2\n",
      "                         Varicose veins       1.00      1.00      1.00         3\n",
      "                            hepatitis A       1.00      1.00      1.00         5\n",
      "\n",
      "                               accuracy                           0.99        83\n",
      "                              macro avg       0.99      0.99      0.99        83\n",
      "                           weighted avg       0.99      0.99      0.99        83\n",
      "\n",
      "Accuracy: 0.9879518072289156\n"
     ]
    }
   ],
   "source": [
    "classification = classification_report(y_test, y_prediction)\n",
    "print(\"Classification Report:\",)\n",
    "print (classification)\n",
    "accuracy = accuracy_score(y_test,y_prediction)\n",
    "print(\"Accuracy:\",accuracy)"
   ]
  },
  {
   "cell_type": "code",
   "execution_count": 29,
   "metadata": {},
   "outputs": [],
   "source": [
    "#from sklearn.metrics import mean_absolute_error , r2_score\n",
    "#print(\"mean:\", mean_absolute_error(y_test,y_prediction))\n",
    "#r2_score(y_test,y_prediction)"
   ]
  },
  {
   "cell_type": "code",
   "execution_count": 30,
   "metadata": {},
   "outputs": [
    {
     "data": {
      "text/plain": [
       "(83,)"
      ]
     },
     "execution_count": 30,
     "metadata": {},
     "output_type": "execute_result"
    }
   ],
   "source": [
    "y_test.shape"
   ]
  },
  {
   "cell_type": "code",
   "execution_count": 31,
   "metadata": {},
   "outputs": [
    {
     "data": {
      "text/plain": [
       "(83,)"
      ]
     },
     "execution_count": 31,
     "metadata": {},
     "output_type": "execute_result"
    }
   ],
   "source": [
    "y_prediction.shape"
   ]
  },
  {
   "cell_type": "code",
   "execution_count": 32,
   "metadata": {},
   "outputs": [
    {
     "data": {
      "text/plain": [
       "Pipeline(steps=[('forest1',\n",
       "                 RandomForestClassifier(max_depth=20, max_features=5))])"
      ]
     },
     "execution_count": 32,
     "metadata": {},
     "output_type": "execute_result"
    }
   ],
   "source": [
    "pipe = Pipeline([('forest1', RandomForestClassifier(max_depth=20, max_features=5, n_estimators=100))])\n",
    "\n",
    "pipe.fit(X_train, y_train)"
   ]
  },
  {
   "cell_type": "code",
   "execution_count": 33,
   "metadata": {},
   "outputs": [],
   "source": [
    "y_predicted = pipe.predict(X_test)\n"
   ]
  },
  {
   "cell_type": "code",
   "execution_count": 34,
   "metadata": {},
   "outputs": [
    {
     "name": "stdout",
     "output_type": "stream",
     "text": [
      "Classification Report:\n",
      "                                         precision    recall  f1-score   support\n",
      "\n",
      "(vertigo) Paroymsal  Positional Vertigo       1.00      1.00      1.00         1\n",
      "                                   AIDS       1.00      1.00      1.00         3\n",
      "                                   Acne       1.00      1.00      1.00         1\n",
      "                    Alcoholic hepatitis       1.00      1.00      1.00         2\n",
      "                                Allergy       1.00      1.00      1.00         2\n",
      "                       Bronchial Asthma       1.00      1.00      1.00         3\n",
      "                   Cervical spondylosis       1.00      1.00      1.00         2\n",
      "                            Chicken pox       0.80      1.00      0.89         4\n",
      "                    Chronic cholestasis       1.00      1.00      1.00         3\n",
      "                                 Dengue       1.00      0.67      0.80         3\n",
      "                               Diabetes       1.00      1.00      1.00         1\n",
      "                          Drug Reaction       1.00      1.00      1.00         2\n",
      "                       Fungal infection       1.00      1.00      1.00         1\n",
      "                                   GERD       1.00      1.00      1.00         4\n",
      "                        Gastroenteritis       1.00      1.00      1.00         1\n",
      "                            Hepatitis B       1.00      1.00      1.00         3\n",
      "                            Hepatitis C       1.00      1.00      1.00         3\n",
      "                            Hepatitis D       1.00      1.00      1.00         3\n",
      "                            Hepatitis E       1.00      1.00      1.00         1\n",
      "                           Hypertension       1.00      1.00      1.00         1\n",
      "                           Hypoglycemia       1.00      1.00      1.00         4\n",
      "                         Hypothyroidism       1.00      1.00      1.00         2\n",
      "                               Impetigo       1.00      1.00      1.00         1\n",
      "                               Jaundice       1.00      1.00      1.00         1\n",
      "                                Malaria       1.00      1.00      1.00         2\n",
      "                               Migraine       1.00      1.00      1.00         5\n",
      "                        Osteoarthristis       1.00      1.00      1.00         3\n",
      "           Paralysis (brain hemorrhage)       1.00      1.00      1.00         2\n",
      "                    Peptic ulcer diseae       1.00      1.00      1.00         1\n",
      "                              Pneumonia       1.00      0.80      0.89         5\n",
      "                              Psoriasis       1.00      1.00      1.00         2\n",
      "                           Tuberculosis       0.00      0.00      0.00         0\n",
      "                                Typhoid       1.00      1.00      1.00         1\n",
      "                Urinary tract infection       1.00      1.00      1.00         2\n",
      "                         Varicose veins       1.00      1.00      1.00         3\n",
      "                            hepatitis A       1.00      1.00      1.00         5\n",
      "\n",
      "                               accuracy                           0.98        83\n",
      "                              macro avg       0.97      0.96      0.96        83\n",
      "                           weighted avg       0.99      0.98      0.98        83\n",
      "\n",
      "Accuracy: 0.9759036144578314\n"
     ]
    },
    {
     "name": "stderr",
     "output_type": "stream",
     "text": [
      "C:\\Users\\cagla\\anaconda3\\lib\\site-packages\\sklearn\\metrics\\_classification.py:1245: UndefinedMetricWarning: Recall and F-score are ill-defined and being set to 0.0 in labels with no true samples. Use `zero_division` parameter to control this behavior.\n",
      "  _warn_prf(average, modifier, msg_start, len(result))\n",
      "C:\\Users\\cagla\\anaconda3\\lib\\site-packages\\sklearn\\metrics\\_classification.py:1245: UndefinedMetricWarning: Recall and F-score are ill-defined and being set to 0.0 in labels with no true samples. Use `zero_division` parameter to control this behavior.\n",
      "  _warn_prf(average, modifier, msg_start, len(result))\n",
      "C:\\Users\\cagla\\anaconda3\\lib\\site-packages\\sklearn\\metrics\\_classification.py:1245: UndefinedMetricWarning: Recall and F-score are ill-defined and being set to 0.0 in labels with no true samples. Use `zero_division` parameter to control this behavior.\n",
      "  _warn_prf(average, modifier, msg_start, len(result))\n"
     ]
    }
   ],
   "source": [
    "classification = classification_report(y_test, y_predicted )\n",
    "print(\"Classification Report:\",)\n",
    "print (classification)\n",
    "accuracy = accuracy_score(y_test,y_predicted)\n",
    "print(\"Accuracy:\",accuracy)"
   ]
  },
  {
   "cell_type": "code",
   "execution_count": 35,
   "metadata": {},
   "outputs": [
    {
     "data": {
      "text/plain": [
       "array(['Fungal infection'], dtype=object)"
      ]
     },
     "execution_count": 35,
     "metadata": {},
     "output_type": "execute_result"
    }
   ],
   "source": [
    "pipe.predict([[13,35,34,15,0,1,2,0,0,0,0]])"
   ]
  },
  {
   "cell_type": "code",
   "execution_count": 38,
   "metadata": {},
   "outputs": [],
   "source": [
    "import pickle\n",
    "\n",
    "filename = 'diagnosis.pkl'\n",
    "pickle.dump(pipe, open(filename, 'wb'))"
   ]
  },
  {
   "cell_type": "code",
   "execution_count": 39,
   "metadata": {},
   "outputs": [
    {
     "name": "stdout",
     "output_type": "stream",
     "text": [
      "['Fungal infection']\n"
     ]
    }
   ],
   "source": [
    "model = pickle.load(open('diagnosis.pkl','rb'))\n",
    "print(model.predict([[13,35,34,15,0,1,2,0,0,0,0]]))"
   ]
  },
  {
   "cell_type": "code",
   "execution_count": 40,
   "metadata": {},
   "outputs": [],
   "source": [
    "pkl_filename = \"diagnosis.pkl\"\n",
    "with open(pkl_filename, 'rb') as file:\n",
    "    pickle_model = pickle.load(file)\n",
    "    "
   ]
  },
  {
   "cell_type": "code",
   "execution_count": 41,
   "metadata": {},
   "outputs": [
    {
     "name": "stdout",
     "output_type": "stream",
     "text": [
      "Test score: 97.59 %\n"
     ]
    }
   ],
   "source": [
    "score = pickle_model.score(X_test, y_test)\n",
    "print(\"Test score: {0:.2f} %\".format(100 * score))\n",
    "Ypredict = pickle_model.predict(X_test)"
   ]
  },
  {
   "cell_type": "code",
   "execution_count": 42,
   "metadata": {},
   "outputs": [],
   "source": [
    "tuple_objects = (pipe, X_train, y_train, score)"
   ]
  },
  {
   "cell_type": "code",
   "execution_count": 43,
   "metadata": {},
   "outputs": [],
   "source": [
    "pickle.dump(tuple_objects, open(\"tuple_model.pkl\", 'wb'))\n"
   ]
  },
  {
   "cell_type": "code",
   "execution_count": 44,
   "metadata": {},
   "outputs": [],
   "source": [
    "pickled_model, pickled_Xtrain, pickled_Ytrain, pickled_score = pickle.load(open(\"tuple_model.pkl\", 'rb'))"
   ]
  },
  {
   "cell_type": "code",
   "execution_count": 45,
   "metadata": {},
   "outputs": [
    {
     "data": {
      "text/plain": [
       "['joblib_model.pkl']"
      ]
     },
     "execution_count": 45,
     "metadata": {},
     "output_type": "execute_result"
    }
   ],
   "source": [
    "import joblib\n",
    "joblib_file = \"joblib_model.pkl\"\n",
    "joblib.dump(pipe, joblib_file)"
   ]
  },
  {
   "cell_type": "code",
   "execution_count": 46,
   "metadata": {},
   "outputs": [],
   "source": [
    "joblib_model = joblib.load(joblib_file)"
   ]
  },
  {
   "cell_type": "code",
   "execution_count": 47,
   "metadata": {},
   "outputs": [
    {
     "name": "stdout",
     "output_type": "stream",
     "text": [
      "Test score: 97.59 %\n"
     ]
    }
   ],
   "source": [
    "score = joblib_model.score(X_test, y_test)\n",
    "print(\"Test score: {0:.2f} %\".format(100 * score))\n",
    "Ypredict = pickle_model.predict(X_test)"
   ]
  },
  {
   "cell_type": "code",
   "execution_count": 48,
   "metadata": {},
   "outputs": [
    {
     "data": {
      "text/plain": [
       "array(['Allergy'], dtype=object)"
      ]
     },
     "execution_count": 48,
     "metadata": {},
     "output_type": "execute_result"
    }
   ],
   "source": [
    "pickle_model.predict([[22,8,50,9,20,47,50,38,0,0,0]])"
   ]
  },
  {
   "cell_type": "code",
   "execution_count": 49,
   "metadata": {
    "scrolled": true
   },
   "outputs": [
    {
     "data": {
      "text/plain": [
       "array(['Fungal infection'], dtype=object)"
      ]
     },
     "execution_count": 49,
     "metadata": {},
     "output_type": "execute_result"
    }
   ],
   "source": [
    "pipe.predict([[13,35,34,15,0,1,2,0,0,0,0]])\n"
   ]
  },
  {
   "cell_type": "code",
   "execution_count": 57,
   "metadata": {},
   "outputs": [],
   "source": [
    "p_disease=pipe.predict([[13,35,34,15,0,1,2,0,0,0,0]])"
   ]
  },
  {
   "cell_type": "code",
   "execution_count": 70,
   "metadata": {},
   "outputs": [
    {
     "name": "stdout",
     "output_type": "stream",
     "text": [
      "Disease after apply encoding: [0]\n"
     ]
    }
   ],
   "source": [
    "P_disease=labencoder.fit_transform(p_disease)\n",
    "print(\"Disease after apply encoding:\",np.unique(P_disease))"
   ]
  },
  {
   "cell_type": "code",
   "execution_count": 71,
   "metadata": {},
   "outputs": [],
   "source": [
    "y1=df.loc[:,['Precaution1','Precaution2','Precaution3','Precaution4']]"
   ]
  },
  {
   "cell_type": "code",
   "execution_count": 72,
   "metadata": {},
   "outputs": [],
   "source": [
    "from sklearn.multioutput import MultiOutputClassifier\n",
    "X1=df['Disease']=\\\n",
    "X1=df.loc[:,['Disease']].apply(labencoder.fit_transform)"
   ]
  },
  {
   "cell_type": "code",
   "execution_count": 73,
   "metadata": {},
   "outputs": [],
   "source": [
    "X1_train, X1_test, y1_train, y1_test=train_test_split(X1, y1, test_size=0.2, random_state=1)"
   ]
  },
  {
   "cell_type": "code",
   "execution_count": 74,
   "metadata": {},
   "outputs": [],
   "source": [
    "dsg=MultiOutputClassifier(RandomForestClassifier(random_state=1),n_jobs=-1)\n",
    "dsg=dsg.fit(X1_train,y1_train)\n",
    "y1_pred=dsg.predict(X1_test)"
   ]
  },
  {
   "cell_type": "code",
   "execution_count": 75,
   "metadata": {},
   "outputs": [
    {
     "data": {
      "text/plain": [
       "array([['lie down', 'avoid sudden change in body',\n",
       "        'avoid abrupt head movment', 'relax']], dtype=object)"
      ]
     },
     "execution_count": 75,
     "metadata": {},
     "output_type": "execute_result"
    }
   ],
   "source": [
    "dsg.predict([P_disease])"
   ]
  },
  {
   "cell_type": "code",
   "execution_count": null,
   "metadata": {},
   "outputs": [],
   "source": []
  }
 ],
 "metadata": {
  "kernelspec": {
   "display_name": "Python 3",
   "language": "python",
   "name": "python3"
  },
  "language_info": {
   "codemirror_mode": {
    "name": "ipython",
    "version": 3
   },
   "file_extension": ".py",
   "mimetype": "text/x-python",
   "name": "python",
   "nbconvert_exporter": "python",
   "pygments_lexer": "ipython3",
   "version": "3.8.3"
  }
 },
 "nbformat": 4,
 "nbformat_minor": 4
}
